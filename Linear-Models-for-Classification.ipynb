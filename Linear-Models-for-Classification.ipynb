{
 "cells": [
  {
   "cell_type": "code",
   "execution_count": 41,
   "metadata": {},
   "outputs": [
    {
     "name": "stdout",
     "output_type": "stream",
     "text": [
      "0.3732394366197183\n",
      "0.3706293706293706\n",
      "\n",
      "\n",
      "\n",
      "0.960093896713615\n",
      "0.951048951048951\n",
      "\n",
      "\n",
      "\n",
      "0.9882629107981221\n",
      "0.9440559440559441\n"
     ]
    }
   ],
   "source": [
    "import mglearn\n",
    "import sklearn\n",
    "from sklearn.datasets import load_breast_cancer\n",
    "cancer=load_breast_cancer()\n",
    "X_train, X_test, y_train, y_test=sklearn.model_selection.train_test_split(\n",
    "cancer.data, cancer.target, random_state=0)\n",
    "\n",
    "logr=sklearn.linear_model.LogisticRegression(solver='lbfgs', max_iter=1000000, C=0.00000000000000001).fit(X_train, y_train)\n",
    "print(logr.score(X_train, y_train))\n",
    "print(logr.score(X_test, y_test))\n",
    "\n",
    "print(\"\\n\\n\")\n",
    "logr=sklearn.linear_model.LogisticRegression(solver='lbfgs', max_iter=1000000, C=1).fit(X_train, y_train)\n",
    "print(logr.score(X_train, y_train))\n",
    "print(logr.score(X_test, y_test))\n",
    "\n",
    "#less regularization, inclination to overfit can be observed.\n",
    "print(\"\\n\\n\")\n",
    "logr=sklearn.linear_model.LogisticRegression(solver='lbfgs', max_iter=1000000, C=100000000000).fit(X_train, y_train)\n",
    "print(logr.score(X_train, y_train))\n",
    "print(logr.score(X_test, y_test))"
   ]
  },
  {
   "cell_type": "code",
   "execution_count": 52,
   "metadata": {},
   "outputs": [
    {
     "name": "stdout",
     "output_type": "stream",
     "text": [
      "0.9624413145539906\n",
      "0.958041958041958\n",
      "\n",
      "\n",
      "\n",
      "1.0\n",
      "0.9440559440559441\n",
      "\n",
      "\n",
      "\n",
      "0.3732394366197183\n",
      "0.3706293706293706\n"
     ]
    }
   ],
   "source": [
    "logrL1=sklearn.linear_model.LogisticRegression( solver='liblinear',\n",
    "                                              max_iter=10000000, penalty='l1').fit(X_train, y_train)\n",
    "print(logrL1.score(X_train, y_train))\n",
    "print(logrL1.score(X_test, y_test))\n",
    "\n",
    "#1.0 score, nice overfit\n",
    "print(\"\\n\\n\")\n",
    "logrL1=sklearn.linear_model.LogisticRegression( solver='liblinear',\n",
    "                                              max_iter=10000000, penalty='l1', C=1000000).fit(X_train, y_train)\n",
    "print(logrL1.score(X_train, y_train))\n",
    "print(logrL1.score(X_test, y_test))\n",
    "\n",
    "print(\"\\n\\n\")\n",
    "logrL1=sklearn.linear_model.LogisticRegression( solver='liblinear',\n",
    "                                              max_iter=10000000, penalty='l1', C=0.000001).fit(X_train, y_train)\n",
    "print(logrL1.score(X_train, y_train))\n",
    "print(logrL1.score(X_test, y_test))"
   ]
  },
  {
   "cell_type": "code",
   "execution_count": null,
   "metadata": {},
   "outputs": [],
   "source": []
  }
 ],
 "metadata": {
  "kernelspec": {
   "display_name": "Python 3",
   "language": "python",
   "name": "python3"
  },
  "language_info": {
   "codemirror_mode": {
    "name": "ipython",
    "version": 3
   },
   "file_extension": ".py",
   "mimetype": "text/x-python",
   "name": "python",
   "nbconvert_exporter": "python",
   "pygments_lexer": "ipython3",
   "version": "3.7.3"
  }
 },
 "nbformat": 4,
 "nbformat_minor": 2
}
